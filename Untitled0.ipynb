{
  "nbformat": 4,
  "nbformat_minor": 0,
  "metadata": {
    "colab": {
      "provenance": [],
      "authorship_tag": "ABX9TyMnWqayeOeZ83CZEZk7f/9Z",
      "include_colab_link": true
    },
    "kernelspec": {
      "name": "python3",
      "display_name": "Python 3"
    },
    "language_info": {
      "name": "python"
    }
  },
  "cells": [
    {
      "cell_type": "markdown",
      "metadata": {
        "id": "view-in-github",
        "colab_type": "text"
      },
      "source": [
        "<a href=\"https://colab.research.google.com/github/gayathri945/weather---modeling/blob/main/Untitled0.ipynb\" target=\"_parent\"><img src=\"https://colab.research.google.com/assets/colab-badge.svg\" alt=\"Open In Colab\"/></a>"
      ]
    },
    {
      "cell_type": "code",
      "source": [
        "import math\n",
        "\n",
        "T = 25\n",
        "H = 60\n",
        "W = 10\n",
        "\n",
        "def calculate_w(T, H, W):\n",
        "    w = 0.5 * T**2 - 0.2 * H + 0.1 * W - 15\n",
        "    return w\n",
        "\n",
        "w = calculate_w(T, H, W)\n",
        "\n",
        "\n",
        "print(f\"For T={T}°C, H={H}%, W={W}m/s, the calculated w is: {w}\")"
      ],
      "metadata": {
        "colab": {
          "base_uri": "https://localhost:8080/"
        },
        "id": "jn670HVZ2R5i",
        "outputId": "317f5600-67a1-47e2-cbe4-9f80f44b9504"
      },
      "execution_count": 3,
      "outputs": [
        {
          "output_type": "stream",
          "name": "stdout",
          "text": [
            "For T=25°C, H=60%, W=10m/s, the calculated w is: 286.5\n"
          ]
        }
      ]
    },
    {
      "cell_type": "code",
      "source": [
        "import math\n",
        "\n",
        "\n",
        "def calculate_w(T, H, W):\n",
        "    w = 0.5 * T**2 - 0.2 * H + 0.1 * W - 15\n",
        "    return w\n",
        "\n",
        "\n",
        "T = float(input(\"Enter temperature (T) in Celsius: \"))\n",
        "H = float(input(\"Enter humidity (H) in percentage: \"))\n",
        "W = float(input(\"Enter wind speed (W) in m/s: \"))\n",
        "\n",
        "\n",
        "w = calculate_w(T, H, W)\n",
        "\n",
        "print(f\"For T={T}°C, H={H}%, W={W}m/s, the calculated w is: {w}\")"
      ],
      "metadata": {
        "colab": {
          "base_uri": "https://localhost:8080/"
        },
        "id": "fIB-700M2k5U",
        "outputId": "3426e5f5-6a75-4d96-c8bc-1cfed1daa80f"
      },
      "execution_count": 4,
      "outputs": [
        {
          "output_type": "stream",
          "name": "stdout",
          "text": [
            "Enter temperature (T) in Celsius: 12\n",
            "Enter humidity (H) in percentage: 10\n",
            "Enter wind speed (W) in m/s: 234\n",
            "For T=12.0°C, H=10.0%, W=234.0m/s, the calculated w is: 78.4\n"
          ]
        }
      ]
    },
    {
      "cell_type": "code",
      "source": [
        "import math\n",
        "\n",
        "\n",
        "def calculate_w(T, H, W):\n",
        "    w = 0.5 * T**2 - 0.2 * H + 0.1 * W - 15\n",
        "    return w\n",
        "\n",
        "\n",
        "with open(\"weather.txt\") as file:\n",
        "    for line in file:\n",
        "        T, H, W = map(float, line.split())\n",
        "        w = calculate_w(T, H, W)\n",
        "        print(f\"For T={T}°C, H={H}%, W={W}m/s, the calculated w is: {w}\")"
      ],
      "metadata": {
        "colab": {
          "base_uri": "https://localhost:8080/"
        },
        "id": "y8zMHoT724kA",
        "outputId": "9ae7d049-3cd5-48ab-faed-3a9b6369b2b3"
      },
      "execution_count": 9,
      "outputs": [
        {
          "output_type": "stream",
          "name": "stdout",
          "text": [
            "For T=25.0°C, H=60.0%, W=10.0m/s, the calculated w is: 286.5\n"
          ]
        }
      ]
    }
  ]
}